{
 "cells": [
  {
   "cell_type": "markdown",
   "metadata": {
    "id": "rKqHT6zD3Rpg"
   },
   "source": [
    "**Importing modules**"
   ]
  },
  {
   "cell_type": "code",
   "execution_count": 1,
   "metadata": {
    "id": "0JFF7SGeq2nF"
   },
   "outputs": [],
   "source": [
    "# importing the libraries\n",
    "import numpy as np\n",
    "import matplotlib.pyplot as plt\n",
    "import pandas as pd\n",
    "import seaborn as sns"
   ]
  },
  {
   "cell_type": "markdown",
   "metadata": {
    "id": "CAscntH43UXz"
   },
   "source": [
    "**import the data set and split the data sets into inputs and outputs.**"
   ]
  },
  {
   "cell_type": "code",
   "execution_count": 2,
   "metadata": {
    "id": "wu1dXxlB3aMc"
   },
   "outputs": [],
   "source": [
    "# importing the dataset\n",
    "dataset = pd.read_csv('NaiveBayes.csv')\n",
    "\n",
    "# split the data into inputs and outputs\n",
    "X = dataset.iloc[:, [0,1]].values\n",
    "y = dataset.iloc[:, 2].values"
   ]
  },
  {
   "cell_type": "markdown",
   "metadata": {
    "id": "iagsTd4o357d"
   },
   "source": [
    "**divide the input and output values into the training and testing**"
   ]
  },
  {
   "cell_type": "code",
   "execution_count": 3,
   "metadata": {
    "id": "NnAOIEII4BjI"
   },
   "outputs": [],
   "source": [
    "# training and testing data\n",
    "from sklearn.model_selection import train_test_split\n",
    "\n",
    "# assign test data size 25%\n",
    "X_train, X_test, y_train, y_test =train_test_split(X,y,test_size= 0.25, random_state=0)\n"
   ]
  },
  {
   "cell_type": "markdown",
   "metadata": {
    "id": "8wPR7LeO4V5I"
   },
   "source": [
    "**scale our dataset to be ready to be used for the training.**"
   ]
  },
  {
   "cell_type": "markdown",
   "metadata": {
    "id": "q_J_ZN244WVU"
   },
   "source": [
    "Note: scaling (or standardization) of a dataset is a common requirement for many machine learning estimators: they might behave badly if the individual features do not more or less look like standard normally distributed data."
   ]
  },
  {
   "cell_type": "markdown",
   "metadata": {
    "id": "zrRX5Ux24kjQ"
   },
   "source": [
    "# Training the model using Bernolli Naive Bayes classifier"
   ]
  },
  {
   "cell_type": "code",
   "execution_count": 4,
   "metadata": {
    "id": "oAuyBAmt4fwS"
   },
   "outputs": [],
   "source": [
    "# importing classifier\n",
    "from sklearn.naive_bayes import BernoulliNB\n",
    "\n",
    "# initializaing the NB\n",
    "classifer = BernoulliNB()\n",
    "\n",
    "# training the model\n",
    "classifer.fit(X_train, y_train)\n",
    "\n",
    "# testing the model\n",
    "y_pred = classifer.predict(X_test)"
   ]
  },
  {
   "cell_type": "markdown",
   "metadata": {
    "id": "PjK8gTD94pxf"
   },
   "source": [
    "**accuracy of the predicted values using the Bernoulli Naive Bayes classifier.**"
   ]
  },
  {
   "cell_type": "code",
   "execution_count": 5,
   "metadata": {
    "colab": {
     "base_uri": "https://localhost:8080/"
    },
    "id": "u2vkayml5Efd",
    "outputId": "2492f8b2-8dfd-473f-d2b5-293440f272c4"
   },
   "outputs": [
    {
     "name": "stdout",
     "output_type": "stream",
     "text": [
      "0.68\n"
     ]
    }
   ],
   "source": [
    "# importing accuracy score\n",
    "from sklearn.metrics import accuracy_score\n",
    "\n",
    "# printing the accuracy of the model\n",
    "print(accuracy_score(y_pred, y_test))"
   ]
  },
  {
   "cell_type": "markdown",
   "metadata": {
    "id": "fkXI_PV05RI-"
   },
   "source": [
    "# Training model using Gaussian Naive Bayes Classifier"
   ]
  },
  {
   "cell_type": "code",
   "execution_count": 6,
   "metadata": {
    "id": "FC8WHbuS5TBS"
   },
   "outputs": [],
   "source": [
    "# import Gaussian Naive Bayes classifier\n",
    "from sklearn.naive_bayes import GaussianNB\n",
    "\n",
    "# create a Gaussian Classifier\n",
    "classifer1 = GaussianNB()\n",
    "\n",
    "# training the model\n",
    "classifer1.fit(X_train, y_train)\n",
    "\n",
    "# testing the model\n",
    "y_pred1 = classifer1.predict(X_test)"
   ]
  },
  {
   "cell_type": "markdown",
   "metadata": {
    "id": "P5wF9YUJ5X1z"
   },
   "source": [
    "**accuracy of our model**"
   ]
  },
  {
   "cell_type": "code",
   "execution_count": 7,
   "metadata": {
    "colab": {
     "base_uri": "https://localhost:8080/"
    },
    "id": "_qGdN8Re5cAM",
    "outputId": "093cc06a-a54a-41a0-e1a5-c86c8b7dd9ae"
   },
   "outputs": [
    {
     "name": "stdout",
     "output_type": "stream",
     "text": [
      "0.9\n"
     ]
    }
   ],
   "source": [
    "# importing accuracy score\n",
    "from sklearn.metrics import accuracy_score\n",
    "\n",
    "# printing the accuracy of the model\n",
    "print(accuracy_score(y_test,y_pred1))"
   ]
  },
  {
   "cell_type": "markdown",
   "metadata": {
    "id": "uw2cQKct5mLv"
   },
   "source": [
    "# Evaluating Naive Bayes Classification performance"
   ]
  },
  {
   "cell_type": "markdown",
   "metadata": {
    "id": "Onm5YUEV54-K"
   },
   "source": [
    "**Evaluation of Bernoulli Naive Bayes classifier**"
   ]
  },
  {
   "cell_type": "code",
   "execution_count": 10,
   "metadata": {
    "colab": {
     "base_uri": "https://localhost:8080/",
     "height": 283
    },
    "id": "5cWQXMAT57RS",
    "outputId": "1de0e9dd-9fdc-4895-8551-8cdff20a2e29"
   },
   "outputs": [
    {
     "data": {
      "text/plain": [
       "<matplotlib.axes._subplots.AxesSubplot at 0x7fbd815febd0>"
      ]
     },
     "execution_count": 10,
     "metadata": {},
     "output_type": "execute_result"
    },
    {
     "data": {
      "image/png": "[encoded data removed]",
      "text/plain": [
       "<Figure size 432x288 with 2 Axes>"
      ]
     },
     "metadata": {
      "needs_background": "light"
     },
     "output_type": "display_data"
    }
   ],
   "source": [
    "# importing the required modules\n",
    "import seaborn as sns\n",
    "from sklearn.metrics import confusion_matrix\n",
    "\n",
    "# passing actual and predicted values\n",
    "cm = confusion_matrix(y_test, y_pred)\n",
    "\n",
    "# true write data values in each cell of the matrix\n",
    "sns.heatmap(cm, annot=True)\n",
    "#plt.savefig('confusion.png')"
   ]
  },
  {
   "cell_type": "markdown",
   "metadata": {
    "id": "dotOgzsa6Vd2"
   },
   "source": [
    "**Evaluation of Gaussian Naive Bayes Classifier**"
   ]
  },
  {
   "cell_type": "code",
   "execution_count": 11,
   "metadata": {
    "colab": {
     "base_uri": "https://localhost:8080/",
     "height": 265
    },
    "id": "K3h_LfVp6Xpq",
    "outputId": "3156af0f-518e-4470-c88c-05b400ea7eda"
   },
   "outputs": [
    {
     "data": {
      "image/png": "[encoded data removed]",
      "text/plain": [
       "<Figure size 432x288 with 2 Axes>"
      ]
     },
     "metadata": {
      "needs_background": "light"
     },
     "output_type": "display_data"
    }
   ],
   "source": [
    "# importing the required modules\n",
    "import seaborn as sns\n",
    "from sklearn.metrics import confusion_matrix\n",
    "\n",
    "# passing actual and predicted values\n",
    "cm = confusion_matrix(y_test, y_pred1)\n",
    "\n",
    "# true write data values in each cell of the matrix\n",
    "sns.heatmap(cm,annot=True)\n",
    "plt.savefig('confusion1.png')"
   ]
  },
  {
   "cell_type": "markdown",
   "metadata": {
    "id": "pyHVMpV27Nud"
   },
   "source": [
    "In real life, the data does not always consist of numeric values. For example, playing or not playing are not numeric values. In such scenarios, we need to convert the non-numeric data to numeric values before feeding data to our model. For example, we have the following dataset about whether players will play sport or not, depending on the weather and temperature."
   ]
  },
  {
   "cell_type": "code",
   "execution_count": 12,
   "metadata": {
    "id": "Kd_yALlN7WSb"
   },
   "outputs": [],
   "source": [
    "# assigning features and label variables\n",
    "weather = ['Sunny','Sunny','Overcast','Rainy','Rainy','Rainy','Overcast','Sunny','Sunny', 'Rainy','Sunny','Overcast','Overcast','Rainy']\n",
    "\n",
    "# output class\n",
    "play = ['No','No','Yes','Yes','Yes','No','Yes','No','Yes','Yes','Yes','Yes','Yes','No']"
   ]
  },
  {
   "cell_type": "markdown",
   "metadata": {
    "id": "6pOzS8vh7ez8"
   },
   "source": [
    "Note: the input and output both are not numeric values. Before feeding this data to our model, we have to encode the non-numeric values into numeric ones. for example, Overcast = 0, Rainy = 1, Sunny = 2. This is called label encoding."
   ]
  },
  {
   "cell_type": "code",
   "execution_count": 20,
   "metadata": {
    "id": "trLu7LOU7f7K"
   },
   "outputs": [],
   "source": [
    "# Import LabelEncoder\n",
    "from sklearn import preprocessing\n",
    "\n",
    "# creating LabelEncoder\n",
    "labelCode = preprocessing.LabelEncoder()\n",
    "\n",
    "# Converting string labels into numbers.\n",
    "wheather_encoded =labelCode.fit_transform(weather)"
   ]
  },
  {
   "cell_type": "markdown",
   "metadata": {
    "id": "0ue9W-pb7ooK"
   },
   "source": [
    "The LabelEncoder will convert the string values to numeric values. For example, if we print the encoded weather, it will no longer contain numeric values."
   ]
  },
  {
   "cell_type": "code",
   "execution_count": 21,
   "metadata": {
    "colab": {
     "base_uri": "https://localhost:8080/"
    },
    "id": "8M0uf1eR7t6w",
    "outputId": "79e34059-5067-4384-a44d-f7f6c4275628"
   },
   "outputs": [
    {
     "name": "stdout",
     "output_type": "stream",
     "text": [
      "[2 2 0 1 1 1 0 2 2 1 2 0 0 1]\n"
     ]
    }
   ],
   "source": [
    "print(wheather_encoded)"
   ]
  },
  {
   "cell_type": "markdown",
   "metadata": {
    "id": "mOCJ8xsA8K8J"
   },
   "source": [
    "**Similarly, we can also encode the play class.**"
   ]
  },
  {
   "cell_type": "code",
   "execution_count": 23,
   "metadata": {
    "id": "zpslE2Gf8Mat"
   },
   "outputs": [],
   "source": [
    "# import LabelEncoder\n",
    "from sklearn import preprocessing\n",
    "\n",
    "# creating LabelEncoder\n",
    "labelCode = preprocessing.LabelEncoder()\n",
    "\n",
    "# converting string labels into numbers.\n",
    "label=labelCode.fit_transform(play)"
   ]
  },
  {
   "cell_type": "markdown",
   "metadata": {
    "id": "eZ9snFs78VDd"
   },
   "source": [
    "Generating model\n",
    "\n",
    "We have already seen that our input values are in a single-dimensional array. By default, the model training takes values in multi-dimensional arrays. If we feed the data without further changes, we will get the following error."
   ]
  },
  {
   "cell_type": "code",
   "execution_count": 25,
   "metadata": {
    "id": "KpCl9LqJ8WQ2"
   },
   "outputs": [],
   "source": [
    "# import Gaussian Naive Bayes model\n",
    "from sklearn.naive_bayes import GaussianNB\n",
    "\n",
    "# create a Gaussian Classifier\n",
    "model = GaussianNB()\n",
    "\n",
    "# train the model using the training sets\n",
    "model.fit(wheather_encoded, label)"
   ]
  },
  {
   "cell_type": "markdown",
   "metadata": {
    "id": "3CkjgA6B8k0M"
   },
   "source": [
    "So, we need to convert our data to the 2D array before feeding it to our model. Here we will use NumPy array and reshape() method to create a 2D array."
   ]
  },
  {
   "cell_type": "code",
   "execution_count": 27,
   "metadata": {
    "id": "JFG55Iwa8lue"
   },
   "outputs": [],
   "source": [
    "# importing numpy module\n",
    "import numpy as np\n",
    "\n",
    "# converting 1D array to 2D\n",
    "weather_2d = np.reshape(wheather_encoded, (-1, 1))"
   ]
  },
  {
   "cell_type": "markdown",
   "metadata": {
    "id": "w67r0i7L8uvX"
   },
   "source": [
    "**We can train our model using this data.**"
   ]
  },
  {
   "cell_type": "code",
   "execution_count": 28,
   "metadata": {
    "colab": {
     "base_uri": "https://localhost:8080/"
    },
    "id": "5WYyTvVA8xJE",
    "outputId": "eaa68cba-825f-4912-ba84-a0f6d367ad80"
   },
   "outputs": [
    {
     "data": {
      "text/plain": [
       "GaussianNB()"
      ]
     },
     "execution_count": 28,
     "metadata": {},
     "output_type": "execute_result"
    }
   ],
   "source": [
    "# import Gaussian Naive Bayes model\n",
    "from sklearn.naive_bayes import GaussianNB\n",
    "\n",
    "# create a Gaussian Classifier\n",
    "model = GaussianNB()\n",
    "\n",
    "# train the model using the training sets\n",
    "model.fit(weather_2d, label)"
   ]
  },
  {
   "cell_type": "markdown",
   "metadata": {
    "id": "lNJOLKkS88dp"
   },
   "source": [
    "We had used the Gaussian Naive Bayes classifier to train our model. Let us predict the output by providing a testing input."
   ]
  },
  {
   "cell_type": "code",
   "execution_count": 29,
   "metadata": {
    "colab": {
     "base_uri": "https://localhost:8080/"
    },
    "id": "dLWtb9_289Zr",
    "outputId": "0172a9fd-e825-474d-b610-fec5b2b1a34a"
   },
   "outputs": [
    {
     "name": "stdout",
     "output_type": "stream",
     "text": [
      "[1]\n"
     ]
    }
   ],
   "source": [
    "# predicting the odel\n",
    "predicted= model.predict([[0]]) # 0:Overcast\n",
    "\n",
    "# printing predicted value\n",
    "print(predicted)"
   ]
  },
  {
   "cell_type": "markdown",
   "metadata": {
    "id": "5VX4MI3f9ETH"
   },
   "source": [
    "**The output value 1 indicates that players will Play when there’s an Overcast weather.**"
   ]
  },
  {
   "cell_type": "markdown",
   "metadata": {
    "id": "vDxIv8Oe9fcR"
   },
   "source": [
    "# Naive Bayes Classification with Multiple Labels\n",
    "\n",
    "**will learn about Naive Bayes classification for multiple labels.**\n",
    "\n",
    "For the training, we will use the built-in data set from the sklearn module named load_wine. This dataset results from a chemical analysis of wines grown in the same region in Italy but derived from three different cultivars.\n",
    "\n",
    "The dataset consists of 13 features (alcohol, malic_acid, ash, alcalinity_of_ash, magnesium, total_phenols, flavanoids, nonflavanoid_phenols, proanthocyanins, color_intensity, hue, od280/od315_of_diluted_wines, proline) and type of wine cultivar. This data has three types of wine Class_0, Class_1, and Class_3. We can build a model to classify the type of wine using Naive Bayes Classification."
   ]
  },
  {
   "cell_type": "code",
   "execution_count": 30,
   "metadata": {
    "id": "lyF_m-S19xK7"
   },
   "outputs": [],
   "source": [
    "# import scikit-learn dataset library\n",
    "from sklearn import datasets\n",
    "\n",
    "# load dataset\n",
    "dataset = datasets.load_wine()"
   ]
  },
  {
   "cell_type": "markdown",
   "metadata": {
    "id": "7Ij3gplF94_B"
   },
   "source": [
    "we can print the input/features and target/output variables names to ensure the desired dataset."
   ]
  },
  {
   "cell_type": "code",
   "execution_count": 31,
   "metadata": {
    "colab": {
     "base_uri": "https://localhost:8080/"
    },
    "id": "-J_KGyv395yq",
    "outputId": "e3863bea-6c91-4b28-daad-0c8d774e07af"
   },
   "outputs": [
    {
     "name": "stdout",
     "output_type": "stream",
     "text": [
      "Inputs:  ['alcohol', 'malic_acid', 'ash', 'alcalinity_of_ash', 'magnesium', 'total_phenols', 'flavanoids', 'nonflavanoid_phenols', 'proanthocyanins', 'color_intensity', 'hue', 'od280/od315_of_diluted_wines', 'proline']\n",
      "Outputs:  ['class_0' 'class_1' 'class_2']\n"
     ]
    }
   ],
   "source": [
    "# print the names of the 13 features\n",
    "print (\"Inputs: \", dataset.feature_names)\n",
    "\n",
    "# print the label type of wine\n",
    "print (\"Outputs: \", dataset.target_names)"
   ]
  },
  {
   "cell_type": "markdown",
   "metadata": {
    "id": "hN5RlDPt9_UH"
   },
   "source": [
    "We check the type of data (numeric/non-numeric) by printing three rows from the dataset."
   ]
  },
  {
   "cell_type": "code",
   "execution_count": 1,
   "metadata": {
    "id": "hrFyDFsw-ABt"
   },
   "outputs": [
    {
     "ename": "NameError",
     "evalue": "name 'dataset' is not defined",
     "output_type": "error",
     "traceback": [
      "\u001b[1;31m---------------------------------------------------------------------------\u001b[0m",
      "\u001b[1;31mNameError\u001b[0m                                 Traceback (most recent call last)",
      "\u001b[1;32m<ipython-input-1-43ecf02bc739>\u001b[0m in \u001b[0;36m<module>\u001b[1;34m\u001b[0m\n\u001b[0;32m      1\u001b[0m \u001b[1;31m# print the wine data features\u001b[0m\u001b[1;33m\u001b[0m\u001b[1;33m\u001b[0m\u001b[1;33m\u001b[0m\u001b[0m\n\u001b[1;32m----> 2\u001b[1;33m \u001b[0mprint\u001b[0m\u001b[1;33m(\u001b[0m\u001b[0mdataset\u001b[0m\u001b[1;33m.\u001b[0m\u001b[0mdata\u001b[0m\u001b[1;33m[\u001b[0m\u001b[1;36m0\u001b[0m\u001b[1;33m:\u001b[0m\u001b[1;36m3\u001b[0m\u001b[1;33m]\u001b[0m\u001b[1;33m)\u001b[0m \u001b[1;31m#top 3 rows\u001b[0m\u001b[1;33m\u001b[0m\u001b[1;33m\u001b[0m\u001b[0m\n\u001b[0m",
      "\u001b[1;31mNameError\u001b[0m: name 'dataset' is not defined"
     ]
    }
   ],
   "source": [
    "# print the wine data features\n",
    "print(dataset.data[0:3]) #top 3 rows"
   ]
  },
  {
   "cell_type": "markdown",
   "metadata": {
    "id": "j6Lbbhez-Iu4"
   },
   "source": [
    "We can also check the output values to verify that it is a multi-class classification dataset."
   ]
  },
  {
   "cell_type": "code",
   "execution_count": 32,
   "metadata": {
    "colab": {
     "base_uri": "https://localhost:8080/"
    },
    "id": "VkUsKP58-Jf_",
    "outputId": "97d93d3b-c44f-4a90-da93-c17e786e9933"
   },
   "outputs": [
    {
     "name": "stdout",
     "output_type": "stream",
     "text": [
      "[0 0 0 0 0 0 0 0 0 0 0 0 0 0 0 0 0 0 0 0 0 0 0 0 0 0 0 0 0 0 0 0 0 0 0 0 0\n",
      " 0 0 0 0 0 0 0 0 0 0 0 0 0 0 0 0 0 0 0 0 0 0 1 1 1 1 1 1 1 1 1 1 1 1 1 1 1\n",
      " 1 1 1 1 1 1 1 1 1 1 1 1 1 1 1 1 1 1 1 1 1 1 1 1 1 1 1 1 1 1 1 1 1 1 1 1 1\n",
      " 1 1 1 1 1 1 1 1 1 1 1 1 1 1 1 1 1 1 1 2 2 2 2 2 2 2 2 2 2 2 2 2 2 2 2 2 2\n",
      " 2 2 2 2 2 2 2 2 2 2 2 2 2 2 2 2 2 2 2 2 2 2 2 2 2 2 2 2 2 2]\n"
     ]
    }
   ],
   "source": [
    "# print the wine labels \n",
    "print(dataset.target)"
   ]
  },
  {
   "cell_type": "markdown",
   "metadata": {
    "id": "GW7lby61-Pi5"
   },
   "source": [
    "# Training the model using multiclass labels\n",
    "\n",
    "Before feeding the dataset to our model, let us split the dataset into training and testing parts to evaluate our model by providing the testing dataset."
   ]
  },
  {
   "cell_type": "code",
   "execution_count": 33,
   "metadata": {
    "id": "Novpqhg5-ROx"
   },
   "outputs": [],
   "source": [
    "# import train_test_split function\n",
    "from sklearn.model_selection import train_test_split\n",
    "\n",
    "# input and outputs\n",
    "inputs = dataset.data\n",
    "outputs = dataset.target\n",
    "\n",
    "# split dataset into training set and test set\n",
    "X_train, X_test, y_train, y_test = train_test_split(inputs, outputs, test_size=0.3, random_state=1)"
   ]
  },
  {
   "cell_type": "markdown",
   "metadata": {
    "id": "19--jXP_-XfQ"
   },
   "source": [
    "Once the splitting is complete, we can feed our model with the training data."
   ]
  },
  {
   "cell_type": "code",
   "execution_count": 34,
   "metadata": {
    "id": "1fyj5zPW-Zko"
   },
   "outputs": [],
   "source": [
    "#Training the model\n",
    "# import Gaussian Naive Bayes model\n",
    "from sklearn.naive_bayes import GaussianNB\n",
    "\n",
    "# create a Gaussian Classifier\n",
    "classifer = GaussianNB()\n",
    "\n",
    "# train the model using the training sets\n",
    "classifer.fit(X_train, y_train)\n",
    "\n",
    "# predict the response for test dataset\n",
    "y_pred = classifer.predict(X_test)"
   ]
  },
  {
   "cell_type": "markdown",
   "metadata": {
    "id": "GRjnY8Bx-idr"
   },
   "source": [
    "Note: we have used the Gaussian Naive Bayes classification method for the training.\n",
    "\n",
    "Let us now check the accuracy of our model:"
   ]
  },
  {
   "cell_type": "code",
   "execution_count": 35,
   "metadata": {
    "colab": {
     "base_uri": "https://localhost:8080/"
    },
    "id": "cvt-Wu_8-mMv",
    "outputId": "199cc880-9acd-44af-ca4e-42bd550bf8f5"
   },
   "outputs": [
    {
     "name": "stdout",
     "output_type": "stream",
     "text": [
      "Accuracy: 0.9814814814814815\n"
     ]
    }
   ],
   "source": [
    "# import scikit-learn metrics module for accuracy calculation\n",
    "from sklearn import metrics\n",
    "\n",
    "# printing accuracy\n",
    "print(\"Accuracy:\", metrics.accuracy_score(y_test, y_pred))"
   ]
  },
  {
   "cell_type": "markdown",
   "metadata": {
    "id": "NpyleIQR-rfp"
   },
   "source": [
    "# Evaluation of Naive Bayes Classifier for Multiclassification"
   ]
  },
  {
   "cell_type": "code",
   "execution_count": 36,
   "metadata": {
    "colab": {
     "base_uri": "https://localhost:8080/",
     "height": 265
    },
    "id": "8XaP2wVH-tTi",
    "outputId": "808528e9-f979-43d4-d561-ca3dbc384130"
   },
   "outputs": [
    {
     "data": {
      "image/png": "[encoded data removed]",
      "text/plain": [
       "<Figure size 432x288 with 2 Axes>"
      ]
     },
     "metadata": {
      "needs_background": "light"
     },
     "output_type": "display_data"
    }
   ],
   "source": [
    "# importing the required modules\n",
    "import seaborn as sns\n",
    "from sklearn.metrics import confusion_matrix\n",
    "\n",
    "# passing actual and predicted values\n",
    "cm = confusion_matrix(y_test, y_pred)\n",
    "\n",
    "# true Write data values in each cell of the matrix\n",
    "sns.heatmap(cm, annot=True)\n",
    "plt.savefig('confusion2.png')"
   ]
  }
 ],
 "metadata": {
  "colab": {
   "name": "Naive_Bayes_Classification.ipynb",
   "provenance": []
  },
  "kernelspec": {
   "display_name": "Python 3",
   "language": "python",
   "name": "python3"
  },
  "language_info": {
   "codemirror_mode": {
    "name": "ipython",
    "version": 3
   },
   "file_extension": ".py",
   "mimetype": "text/x-python",
   "name": "python",
   "nbconvert_exporter": "python",
   "pygments_lexer": "ipython3",
   "version": "3.8.5"
  }
 },
 "nbformat": 4,
 "nbformat_minor": 1
}
